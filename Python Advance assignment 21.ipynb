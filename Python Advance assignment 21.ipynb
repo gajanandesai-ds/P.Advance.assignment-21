{
 "cells": [
  {
   "cell_type": "raw",
   "id": "1f18b1c9",
   "metadata": {},
   "source": [
    "Q1. What is a probability distribution, exactly? If the values are meant to be random, how can you\n",
    "predict them at all?"
   ]
  },
  {
   "cell_type": "raw",
   "id": "e541f71c",
   "metadata": {},
   "source": [
    "Ans:  A probability distribution is a statistical function that describes all the possible values and likelihoods that a random variable can take within a given range. These factors include the distribtion mean (avearge), standard deviation, skewness, and kurtosis.\n"
   ]
  },
  {
   "cell_type": "raw",
   "id": "64581975",
   "metadata": {},
   "source": [
    "if the values are meant to be random, we can predict them using following steps:\n",
    "\n",
    "step 1: List all simple events in sample space.\n",
    "\n",
    "step 2: Find probability for each simple event.\n",
    "\n",
    "step 3: List possible values for random variable x and identify the value for each simple event.\n",
    "\n",
    "step 4: Find all simple events for which X=k, for each possible value k."
   ]
  },
  {
   "cell_type": "code",
   "execution_count": null,
   "id": "62dca370",
   "metadata": {},
   "outputs": [],
   "source": []
  },
  {
   "cell_type": "code",
   "execution_count": null,
   "id": "14bca4bd",
   "metadata": {},
   "outputs": [],
   "source": []
  },
  {
   "cell_type": "raw",
   "id": "01d2abee",
   "metadata": {},
   "source": [
    "Q2. Is there a distinction between true random numbers and pseudo-random numbers, if there is\n",
    "one? Why are the latter considered “good enough”?"
   ]
  },
  {
   "cell_type": "raw",
   "id": "58f97917",
   "metadata": {},
   "source": [
    "Ans: The differnce between true random number genearators(TRNGS) and pseudo-random number generator(PRNGs) is that TRNGs use an unpredictable physical means to genrate number (like atmospheric npise), and PRNGs use mathematical algorithms (completeley computet-genrated).pseudo-random number are good enough beacuse we usally dont need true randomness for most applications. what we need is unpredicatability. if we're using s random number generator in a game , we dont care if the numbers are truly random we only care that they arent predicatable."
   ]
  },
  {
   "cell_type": "code",
   "execution_count": null,
   "id": "f0b12fb4",
   "metadata": {},
   "outputs": [],
   "source": []
  },
  {
   "cell_type": "code",
   "execution_count": null,
   "id": "258ab11e",
   "metadata": {},
   "outputs": [],
   "source": []
  },
  {
   "cell_type": "raw",
   "id": "6026fe87",
   "metadata": {},
   "source": [
    "Q3. What are the two main factors that influence the behaviour of a normal probability distribution?"
   ]
  },
  {
   "cell_type": "raw",
   "id": "a85722df",
   "metadata": {},
   "source": [
    "ans: The first rule states that the sum of the probabilities must equal one. The second rule states that each probability must be between 0 and 1, inclusive."
   ]
  },
  {
   "cell_type": "code",
   "execution_count": null,
   "id": "9372a062",
   "metadata": {},
   "outputs": [],
   "source": []
  },
  {
   "cell_type": "code",
   "execution_count": null,
   "id": "e729849f",
   "metadata": {},
   "outputs": [],
   "source": []
  },
  {
   "cell_type": "raw",
   "id": "bf89da06",
   "metadata": {},
   "source": [
    "Q4. Provide a real-life example of a normal distribution."
   ]
  },
  {
   "cell_type": "raw",
   "id": "3a860d92",
   "metadata": {},
   "source": [
    "ans: Rolling A Dice\n",
    "\n",
    "A fair rolling dice is also a good example of normal distribution. in an experiment, it has been found that when a dice is rolled 100 times, chances to get '1' are 15-18% and if we roll the dice 1000 times, the chanes to get '1' is, again, the  same, which averages to 16.7% (1/6)."
   ]
  },
  {
   "cell_type": "code",
   "execution_count": null,
   "id": "2cd8b653",
   "metadata": {},
   "outputs": [],
   "source": []
  },
  {
   "cell_type": "code",
   "execution_count": null,
   "id": "19ecc9d1",
   "metadata": {},
   "outputs": [],
   "source": []
  },
  {
   "cell_type": "raw",
   "id": "be38c93e",
   "metadata": {},
   "source": [
    "Q5. In the short term, how can you expect a probability distribution to behave? What do you think will\n",
    "happen as the number of trials grows?"
   ]
  },
  {
   "cell_type": "raw",
   "id": "a7fc31b8",
   "metadata": {},
   "source": [
    "ans: Depends on the data for the distribution. it initially will be rising and after a certain threshold achieving it will go down."
   ]
  },
  {
   "cell_type": "code",
   "execution_count": null,
   "id": "5b0faa7c",
   "metadata": {},
   "outputs": [],
   "source": []
  },
  {
   "cell_type": "code",
   "execution_count": null,
   "id": "b0614837",
   "metadata": {},
   "outputs": [],
   "source": []
  },
  {
   "cell_type": "raw",
   "id": "b71858f4",
   "metadata": {},
   "source": [
    "Q6. What kind of object can be shuffled by using random.shuffle?"
   ]
  },
  {
   "cell_type": "raw",
   "id": "51bf991a",
   "metadata": {},
   "source": [
    "ans:  random provides shuffle() that shuffles the original list in place, and sample() that returns a new list that is randomly shuffled. sample() can also be used for strings and tuples."
   ]
  },
  {
   "cell_type": "code",
   "execution_count": null,
   "id": "9adb0ff7",
   "metadata": {},
   "outputs": [],
   "source": []
  },
  {
   "cell_type": "code",
   "execution_count": null,
   "id": "747dafac",
   "metadata": {},
   "outputs": [],
   "source": []
  },
  {
   "cell_type": "raw",
   "id": "738603d9",
   "metadata": {},
   "source": [
    "Q7. Describe the math package's general categories of functions."
   ]
  },
  {
   "cell_type": "raw",
   "id": "dba0edfc",
   "metadata": {},
   "source": [
    "ans: sin, cos, sqrt, pow, log, exp etc."
   ]
  },
  {
   "cell_type": "code",
   "execution_count": null,
   "id": "1bf9afb0",
   "metadata": {},
   "outputs": [],
   "source": []
  },
  {
   "cell_type": "code",
   "execution_count": null,
   "id": "3225887c",
   "metadata": {},
   "outputs": [],
   "source": []
  },
  {
   "cell_type": "raw",
   "id": "0dedfa54",
   "metadata": {},
   "source": [
    "Q8. What is the relationship between exponentiation and logarithms?"
   ]
  },
  {
   "cell_type": "raw",
   "id": "35dd0800",
   "metadata": {},
   "source": [
    "ans: Logarithmic function are the inverse of expontial functions. The inverse of the exponetial function y = a ^ x is x = a ^ y. The logarithmic function y = log _ a ^x is defined to  be equivalent to the exponential equation x =na ^ y."
   ]
  },
  {
   "cell_type": "code",
   "execution_count": null,
   "id": "95b016a5",
   "metadata": {},
   "outputs": [],
   "source": []
  },
  {
   "cell_type": "code",
   "execution_count": null,
   "id": "471d529a",
   "metadata": {},
   "outputs": [],
   "source": []
  },
  {
   "cell_type": "raw",
   "id": "73b6b256",
   "metadata": {},
   "source": [
    "Q9. What are the three logarithmic functions that Python supports?"
   ]
  },
  {
   "cell_type": "raw",
   "id": "78428d37",
   "metadata": {},
   "source": [
    "Ans:  log2 (x)\n",
    "\n",
    "log (x , Base)\n",
    "\n",
    "log 10 (x)\n",
    "\n",
    "log 1p(x)"
   ]
  },
  {
   "cell_type": "code",
   "execution_count": null,
   "id": "330968e2",
   "metadata": {},
   "outputs": [],
   "source": []
  },
  {
   "cell_type": "code",
   "execution_count": null,
   "id": "01ec9993",
   "metadata": {},
   "outputs": [],
   "source": []
  }
 ],
 "metadata": {
  "kernelspec": {
   "display_name": "Python 3",
   "language": "python",
   "name": "python3"
  },
  "language_info": {
   "codemirror_mode": {
    "name": "ipython",
    "version": 3
   },
   "file_extension": ".py",
   "mimetype": "text/x-python",
   "name": "python",
   "nbconvert_exporter": "python",
   "pygments_lexer": "ipython3",
   "version": "3.8.8"
  }
 },
 "nbformat": 4,
 "nbformat_minor": 5
}
